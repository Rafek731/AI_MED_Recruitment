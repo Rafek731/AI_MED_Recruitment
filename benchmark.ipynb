{
 "cells": [
  {
   "cell_type": "markdown",
   "id": "4d37044f",
   "metadata": {},
   "source": [
    "## Benchmark\n",
    "\n",
    "In this file we'll se performance of the models shown in ``showcase_of_models.ipynb``.\n",
    "We'll use various evaluation metrics and we'll compare performance of diffrent models on the same datasets."
   ]
  },
  {
   "cell_type": "code",
   "execution_count": 1,
   "id": "af5f4d9b",
   "metadata": {},
   "outputs": [],
   "source": [
    "# imports\n",
    "import pandas as pd\n",
    "\n",
    "from ML import KNN_classifier, DecisionTree, RandomForest\n",
    "from data_processing import preprocess_data, split_data"
   ]
  },
  {
   "cell_type": "code",
   "execution_count": 2,
   "id": "b7e53785",
   "metadata": {},
   "outputs": [],
   "source": [
    "# load data\n",
    "data = pd.read_csv('task_data.csv')\n",
    "data = preprocess_data(data)"
   ]
  },
  {
   "cell_type": "code",
   "execution_count": 3,
   "id": "1837e3c0",
   "metadata": {},
   "outputs": [],
   "source": [
    "# create models\n",
    "models = [KNN_classifier(k=3, name='KNN3'), \n",
    "          KNN_classifier(k=5, name='KNN5'), \n",
    "          DecisionTree(max_depth=5, name='DecisionTree'), \n",
    "          RandomForest(n_trees=20, max_depth=20, n_features=3, name='RandomForest')]"
   ]
  },
  {
   "cell_type": "markdown",
   "id": "7d2e54f4",
   "metadata": {},
   "source": [
    "### LpO Cross-validation\n",
    "\n",
    "Or *Leave p out Cross-validation* means that each time going over dataset we'll leave ``p`` randomly chosen samples to the test dataset and the rest to train dataset "
   ]
  },
  {
   "cell_type": "code",
   "execution_count": 4,
   "id": "814385d1",
   "metadata": {},
   "outputs": [
    {
     "name": "stdout",
     "output_type": "stream",
     "text": [
      "Model: KNN3\n",
      "Accuracy=75.38% | Precision=81.52% | Recall=85.84% | F1 Score=83.62%\n",
      "----------------------------------------------------------------------\n",
      "Model: KNN5\n",
      "Accuracy=74.00% | Precision=78.21% | Recall=89.42% | F1 Score=83.44%\n",
      "----------------------------------------------------------------------\n",
      "Model: DecisionTree\n",
      "Accuracy=69.38% | Precision=78.85% | Recall=79.52% | F1 Score=79.18%\n",
      "----------------------------------------------------------------------\n",
      "Model: RandomForest\n",
      "Accuracy=70.50% | Precision=78.23% | Recall=82.76% | F1 Score=80.43%\n",
      "----------------------------------------------------------------------\n",
      "\n",
      "Model KNN3:\n",
      "                    Actual Positive  Actual Negative\n",
      "Predicted Positive              503              114\n",
      "Predicted Negative               83              100\n",
      "\n",
      "\n",
      "Model KNN5:\n",
      "                    Actual Positive  Actual Negative\n",
      "Predicted Positive              524              146\n",
      "Predicted Negative               62               68\n",
      "\n",
      "\n",
      "Model DecisionTree:\n",
      "                    Actual Positive  Actual Negative\n",
      "Predicted Positive              466              125\n",
      "Predicted Negative              120               89\n",
      "\n",
      "\n",
      "Model RandomForest:\n",
      "                    Actual Positive  Actual Negative\n",
      "Predicted Positive              485              135\n",
      "Predicted Negative              101               79\n",
      "\n"
     ]
    }
   ],
   "source": [
    "p = 8  # number of samples to leave out in each iteration\n",
    "N = 100  # number of iterations\n",
    "\n",
    "TEST_SIZE = p / data.shape[0]\n",
    "\n",
    "for _ in range(N):\n",
    "    # split data into random train and test sets\n",
    "    X_train, y_train, X_test, y_test = split_data(data, 'Cardiomegaly', test_size=TEST_SIZE)\n",
    "\n",
    "    # fit models\n",
    "    for model in models:\n",
    "        model.fit(X_train, y_train)\n",
    "\n",
    "    # evaluate models\n",
    "    eval_metrics = [model.evaluate(X_test, y_test) for model in models]\n",
    "\n",
    "    # clear models for next iteration\n",
    "    for model in models:\n",
    "        model.clear()\n",
    "\n",
    "# print evaluation results\n",
    "for model_name, summary, _ in eval_metrics:\n",
    "    print(f\"Model: {model_name}\")\n",
    "    print(summary)\n",
    "    print(\"-\" * 70)\n",
    "\n",
    "# print confusion matrices\n",
    "for model_name, _, conf_matrix in eval_metrics:\n",
    "    print(f\"\\nModel {model_name}:\\n{conf_matrix}\\n\")"
   ]
  },
  {
   "cell_type": "markdown",
   "id": "be9cd991",
   "metadata": {},
   "source": [
    "### Conclusion \n",
    "The results show that all models perform about the same, ``KNN3`` model has higest accuracy and precision though"
   ]
  }
 ],
 "metadata": {
  "kernelspec": {
   "display_name": ".venv",
   "language": "python",
   "name": "python3"
  },
  "language_info": {
   "codemirror_mode": {
    "name": "ipython",
    "version": 3
   },
   "file_extension": ".py",
   "mimetype": "text/x-python",
   "name": "python",
   "nbconvert_exporter": "python",
   "pygments_lexer": "ipython3",
   "version": "3.13.9"
  }
 },
 "nbformat": 4,
 "nbformat_minor": 5
}
