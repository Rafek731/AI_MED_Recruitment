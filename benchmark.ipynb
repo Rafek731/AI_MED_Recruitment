{
 "cells": [
  {
   "cell_type": "markdown",
   "id": "4d37044f",
   "metadata": {},
   "source": [
    "## Benchmark\n",
    "\n",
    "In this file we'll se performance of the models shown in ``showcase_of_models.ipynb``.\n",
    "We'll use various evaluation metrics and we'll compare performance of diffrent models on the same datasets."
   ]
  },
  {
   "cell_type": "code",
   "execution_count": 1,
   "id": "af5f4d9b",
   "metadata": {},
   "outputs": [],
   "source": [
    "# imports\n",
    "import pandas as pd\n",
    "\n",
    "from ML import KNN_classifier, DecisionTree, RandomForest\n",
    "from data_processing import preprocess_data, split_data"
   ]
  },
  {
   "cell_type": "code",
   "execution_count": 2,
   "id": "b7e53785",
   "metadata": {},
   "outputs": [],
   "source": [
    "# load data\n",
    "data = pd.read_csv('task_data.csv')\n",
    "data = preprocess_data(data)"
   ]
  },
  {
   "cell_type": "code",
   "execution_count": 3,
   "id": "1837e3c0",
   "metadata": {},
   "outputs": [],
   "source": [
    "# create models\n",
    "models = [KNN_classifier(k=3, name='KNN3'), \n",
    "          KNN_classifier(k=5, name='KNN5'), \n",
    "          DecisionTree(max_depth=5, name='DecisionTree'), \n",
    "          RandomForest(n_trees=64, max_depth=20, n_features=3, name='RandomForest')]"
   ]
  },
  {
   "cell_type": "markdown",
   "id": "7d2e54f4",
   "metadata": {},
   "source": [
    "### LpO Cross-validation\n",
    "\n",
    "Or *Leave p out Cross-validation* means that each time going over dataset we'll leave ``p`` randomly chosen samples to the test dataset and the rest to train dataset "
   ]
  },
  {
   "cell_type": "code",
   "execution_count": 4,
   "id": "814385d1",
   "metadata": {},
   "outputs": [
    {
     "name": "stdout",
     "output_type": "stream",
     "text": [
      "Model: KNN3\n",
      "Accuracy=78.75% | Precision=82.98% | Recall=90.62% | F1 Score=86.64%\n",
      "----------------------------------------------------------------------\n",
      "Model: KNN5\n",
      "Accuracy=78.12% | Precision=81.61% | Recall=91.94% | F1 Score=86.47%\n",
      "----------------------------------------------------------------------\n",
      "Model: DecisionTree\n",
      "Accuracy=70.62% | Precision=79.56% | Recall=82.57% | F1 Score=81.03%\n",
      "----------------------------------------------------------------------\n",
      "Model: RandomForest\n",
      "Accuracy=73.25% | Precision=81.27% | Recall=84.21% | F1 Score=82.71%\n",
      "----------------------------------------------------------------------\n",
      "\n",
      "Model KNN3:\n",
      "                    Actual Positive  Actual Negative\n",
      "Predicted Positive              551              113\n",
      "Predicted Negative               57               79\n",
      "\n",
      "\n",
      "Model KNN5:\n",
      "                    Actual Positive  Actual Negative\n",
      "Predicted Positive              559              126\n",
      "Predicted Negative               49               66\n",
      "\n",
      "\n",
      "Model DecisionTree:\n",
      "                    Actual Positive  Actual Negative\n",
      "Predicted Positive              502              129\n",
      "Predicted Negative              106               63\n",
      "\n",
      "\n",
      "Model RandomForest:\n",
      "                    Actual Positive  Actual Negative\n",
      "Predicted Positive              512              118\n",
      "Predicted Negative               96               74\n",
      "\n"
     ]
    }
   ],
   "source": [
    "p = 8  # number of samples to leave out in each iteration\n",
    "N = 100  # number of iterations\n",
    "\n",
    "TEST_SIZE = p / data.shape[0]\n",
    "\n",
    "for _ in range(N):\n",
    "    # split data into random train and test sets\n",
    "    X_train, y_train, X_test, y_test = split_data(data, 'Cardiomegaly', test_size=TEST_SIZE)\n",
    "\n",
    "    # fit models\n",
    "    for model in models:\n",
    "        model.fit(X_train, y_train)\n",
    "\n",
    "    # evaluate models\n",
    "    eval_metrics = [model.evaluate(X_test, y_test) for model in models]\n",
    "\n",
    "    # clear models for next iteration\n",
    "    for model in models:\n",
    "        model.clear()\n",
    "\n",
    "# print evaluation results\n",
    "for model_name, summary, _ in eval_metrics:\n",
    "    print(f\"Model: {model_name}\")\n",
    "    print(summary)\n",
    "    print(\"-\" * 70)\n",
    "\n",
    "# print confusion matrices\n",
    "for model_name, _, conf_matrix in eval_metrics:\n",
    "    print(f\"\\nModel {model_name}:\\n{conf_matrix}\\n\")"
   ]
  },
  {
   "cell_type": "markdown",
   "id": "be9cd991",
   "metadata": {},
   "source": [
    "### Conclusion \n",
    "The results show that all models perform about the same, ``KNN3`` model has higest accuracy and precision though"
   ]
  }
 ],
 "metadata": {
  "kernelspec": {
   "display_name": ".venv",
   "language": "python",
   "name": "python3"
  },
  "language_info": {
   "codemirror_mode": {
    "name": "ipython",
    "version": 3
   },
   "file_extension": ".py",
   "mimetype": "text/x-python",
   "name": "python",
   "nbconvert_exporter": "python",
   "pygments_lexer": "ipython3",
   "version": "3.13.9"
  }
 },
 "nbformat": 4,
 "nbformat_minor": 5
}
