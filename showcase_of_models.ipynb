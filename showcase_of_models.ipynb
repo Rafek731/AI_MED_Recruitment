{
 "cells": [
  {
   "cell_type": "code",
   "execution_count": 25,
   "id": "18313f85",
   "metadata": {},
   "outputs": [],
   "source": [
    "import pandas as pd\n",
    "import numpy as np\n",
    "from sklearn.model_selection import train_test_split\n",
    "import warnings\n",
    "\n",
    "\n",
    "warnings.filterwarnings('ignore') # ignore pandas future warnings\n",
    "float_t = np.float64"
   ]
  },
  {
   "cell_type": "markdown",
   "id": "d9b45dd8",
   "metadata": {},
   "source": [
    "### Loading data"
   ]
  },
  {
   "cell_type": "code",
   "execution_count": 26,
   "id": "4887bd5a",
   "metadata": {},
   "outputs": [
    {
     "name": "stdout",
     "output_type": "stream",
     "text": [
      "37\n"
     ]
    },
    {
     "data": {
      "text/html": [
       "<div>\n",
       "<style scoped>\n",
       "    .dataframe tbody tr th:only-of-type {\n",
       "        vertical-align: middle;\n",
       "    }\n",
       "\n",
       "    .dataframe tbody tr th {\n",
       "        vertical-align: top;\n",
       "    }\n",
       "\n",
       "    .dataframe thead th {\n",
       "        text-align: right;\n",
       "    }\n",
       "</style>\n",
       "<table border=\"1\" class=\"dataframe\">\n",
       "  <thead>\n",
       "    <tr style=\"text-align: right;\">\n",
       "      <th></th>\n",
       "      <th>ID</th>\n",
       "      <th>Cardiomegaly</th>\n",
       "      <th>Heart width</th>\n",
       "      <th>Lung width</th>\n",
       "      <th>CTR - Cardiothoracic Ratio</th>\n",
       "      <th>xx</th>\n",
       "      <th>yy</th>\n",
       "      <th>xy</th>\n",
       "      <th>normalized_diff</th>\n",
       "      <th>Inscribed circle radius</th>\n",
       "      <th>Polygon Area Ratio</th>\n",
       "      <th>Heart perimeter</th>\n",
       "      <th>Heart area</th>\n",
       "      <th>Lung area</th>\n",
       "    </tr>\n",
       "  </thead>\n",
       "  <tbody>\n",
       "    <tr>\n",
       "      <th>0</th>\n",
       "      <td>1</td>\n",
       "      <td>0</td>\n",
       "      <td>172</td>\n",
       "      <td>405</td>\n",
       "      <td>0,424691358</td>\n",
       "      <td>1682.360871</td>\n",
       "      <td>3153.671880</td>\n",
       "      <td>-638.531109</td>\n",
       "      <td>-0.304239</td>\n",
       "      <td>68,8186</td>\n",
       "      <td>0.213446</td>\n",
       "      <td>679,4873689</td>\n",
       "      <td>24898</td>\n",
       "      <td>75419</td>\n",
       "    </tr>\n",
       "    <tr>\n",
       "      <th>1</th>\n",
       "      <td>2</td>\n",
       "      <td>1</td>\n",
       "      <td>159</td>\n",
       "      <td>391</td>\n",
       "      <td>0,4066496164</td>\n",
       "      <td>1526.660960</td>\n",
       "      <td>5102.159054</td>\n",
       "      <td>-889.678405</td>\n",
       "      <td>-0.539387</td>\n",
       "      <td>73,92564</td>\n",
       "      <td>0.203652</td>\n",
       "      <td>788,6589419</td>\n",
       "      <td>29851</td>\n",
       "      <td>94494</td>\n",
       "    </tr>\n",
       "    <tr>\n",
       "      <th>2</th>\n",
       "      <td>5</td>\n",
       "      <td>0</td>\n",
       "      <td>208</td>\n",
       "      <td>400</td>\n",
       "      <td>0,52</td>\n",
       "      <td>2465.903392</td>\n",
       "      <td>5376.834707</td>\n",
       "      <td>-1755.344699</td>\n",
       "      <td>-0.371163</td>\n",
       "      <td>69,33974</td>\n",
       "      <td>0.320787</td>\n",
       "      <td>862,3229369</td>\n",
       "      <td>33653</td>\n",
       "      <td>66666</td>\n",
       "    </tr>\n",
       "    <tr>\n",
       "      <th>3</th>\n",
       "      <td>7</td>\n",
       "      <td>1</td>\n",
       "      <td>226</td>\n",
       "      <td>435</td>\n",
       "      <td>0,5195402299</td>\n",
       "      <td>2509.063593</td>\n",
       "      <td>6129.821270</td>\n",
       "      <td>-1025.079806</td>\n",
       "      <td>-0.419123</td>\n",
       "      <td>84,14868</td>\n",
       "      <td>0.317545</td>\n",
       "      <td>906,724959</td>\n",
       "      <td>42018</td>\n",
       "      <td>82596</td>\n",
       "    </tr>\n",
       "    <tr>\n",
       "      <th>4</th>\n",
       "      <td>8</td>\n",
       "      <td>1</td>\n",
       "      <td>211</td>\n",
       "      <td>420</td>\n",
       "      <td>0,5023809524</td>\n",
       "      <td>2368.770135</td>\n",
       "      <td>5441.767075</td>\n",
       "      <td>-1493.040062</td>\n",
       "      <td>-0.393442</td>\n",
       "      <td>73,78347</td>\n",
       "      <td>0.263542</td>\n",
       "      <td>864,2396777</td>\n",
       "      <td>35346</td>\n",
       "      <td>85631</td>\n",
       "    </tr>\n",
       "  </tbody>\n",
       "</table>\n",
       "</div>"
      ],
      "text/plain": [
       "   ID  Cardiomegaly  Heart width  Lung width CTR - Cardiothoracic Ratio  \\\n",
       "0   1             0          172         405                0,424691358   \n",
       "1   2             1          159         391               0,4066496164   \n",
       "2   5             0          208         400                       0,52   \n",
       "3   7             1          226         435               0,5195402299   \n",
       "4   8             1          211         420               0,5023809524   \n",
       "\n",
       "            xx           yy           xy  normalized_diff  \\\n",
       "0  1682.360871  3153.671880  -638.531109        -0.304239   \n",
       "1  1526.660960  5102.159054  -889.678405        -0.539387   \n",
       "2  2465.903392  5376.834707 -1755.344699        -0.371163   \n",
       "3  2509.063593  6129.821270 -1025.079806        -0.419123   \n",
       "4  2368.770135  5441.767075 -1493.040062        -0.393442   \n",
       "\n",
       "  Inscribed circle radius  Polygon Area Ratio Heart perimeter  Heart area   \\\n",
       "0                 68,8186            0.213446     679,4873689        24898   \n",
       "1                73,92564            0.203652     788,6589419        29851   \n",
       "2                69,33974            0.320787     862,3229369        33653   \n",
       "3                84,14868            0.317545      906,724959        42018   \n",
       "4                73,78347            0.263542     864,2396777        35346   \n",
       "\n",
       "   Lung area  \n",
       "0      75419  \n",
       "1      94494  \n",
       "2      66666  \n",
       "3      82596  \n",
       "4      85631  "
      ]
     },
     "execution_count": 26,
     "metadata": {},
     "output_type": "execute_result"
    }
   ],
   "source": [
    "data = pd.read_csv('.\\\\task_data.csv')\n",
    "print(len(data))\n",
    "data.head()"
   ]
  },
  {
   "cell_type": "markdown",
   "id": "5fdaa81c",
   "metadata": {},
   "source": [
    "### Preprocessing\n",
    "Since \"xx\", \"yy\", \"xy\", \"normalized_diff\" apply to photos which are not provided, and \"ID\" is not relevant we will be dropping these columns as they are useless in the given task. We'll additionally convert all useful valuest to floats and perform regularization of the data (scale them down to range [0,1])"
   ]
  },
  {
   "cell_type": "code",
   "execution_count": 27,
   "id": "7f8bf83b",
   "metadata": {},
   "outputs": [],
   "source": [
    "# drop useless data\n",
    "data.drop(labels=['xx','yy','xy','ID','normalized_diff'] , axis=1, inplace=True)\n",
    "# Convert strings to floats\n",
    "for col_name in data:\n",
    "    new_col = []\n",
    "    for val in data[col_name]:\n",
    "        if isinstance(val, str):\n",
    "            val = val.replace(',', '.')\n",
    "        new_col.append(float_t(val))\n",
    "    # Apply regularization of data (scale them down to range [0,1])\n",
    "    new_col = (np.array(new_col) - np.min(new_col)) / (np.max(new_col) - np.min(new_col))\n",
    "    data[col_name] = new_col\n",
    "\n",
    "X_train, X_test = train_test_split(data, test_size=0.2)\n",
    "y_train, y_test = X_train['Cardiomegaly'], X_test['Cardiomegaly']\n",
    "\n",
    "X_train.drop('Cardiomegaly', axis=1, inplace=True)\n",
    "X_test.drop('Cardiomegaly', axis=1, inplace=True)\n",
    "\n",
    "X_train = np.array(X_train, dtype=float_t)\n",
    "X_test = np.array(X_test, dtype=float_t)\n",
    "y_test = np.array(y_test, dtype=int)\n",
    "y_train = np.array(y_train, dtype=int)"
   ]
  },
  {
   "cell_type": "markdown",
   "id": "844c3ff2",
   "metadata": {},
   "source": [
    "## K-nearest neighbours\n",
    "\n",
    "Since a patient can be described as a vector (in our case 8 dimentional: v = `[Heart width, Lung width, CTR - Cardiothoracic Ratio, Inscribed circle radius,\tPolygon Area Ratio, Heart perimeter, Heart area, Lung area]`) we can think of a patient as a point in n-dimentional space. For a new given vector 'v' we can calculate distances to other points  and then choose k nearest of them. If most of the points close to v represent sick patient then the patient represented by v is most likely sick as well. "
   ]
  },
  {
   "cell_type": "code",
   "execution_count": 28,
   "id": "8fc1df1a",
   "metadata": {},
   "outputs": [],
   "source": [
    "from ML import KNN_classifier\n",
    "knn = KNN_classifier(k=3)\n",
    "knn.fit(X_train, y_train)"
   ]
  },
  {
   "cell_type": "markdown",
   "id": "b0c8b1f8",
   "metadata": {},
   "source": [
    "### Evaluation of the model"
   ]
  },
  {
   "cell_type": "code",
   "execution_count": 29,
   "id": "5dad58c8",
   "metadata": {},
   "outputs": [
    {
     "name": "stdout",
     "output_type": "stream",
     "text": [
      "Evaluation metrics:\n",
      " num  | Accuracy | Precision | Recall | F1_Score |\n",
      "  1   |   0.00   |   0.00    |  0.00  |   0.00   |\n",
      "  2   |   0.00   |   0.00    |  0.00  |   0.00   |\n",
      "  3   |   0.33   |   0.00    |  0.00  |   0.00   |\n",
      "  4   |   0.50   |   0.33    |  1.00  |   0.50   |\n",
      "  5   |   0.60   |   0.50    |  1.00  |   0.67   |\n",
      "  6   |   0.67   |   0.60    |  1.00  |   0.75   |\n",
      "  7   |   0.71   |   0.67    |  1.00  |   0.80   |\n",
      "  8   |   0.75   |   0.71    |  1.00  |   0.83   |\n",
      "\n",
      "Final:\n",
      "Accuracy=0.75 | Precision=0.71 | Recall=1.00 | F1 Score=0.83\n",
      "\n",
      "                    Actual Positive  Actual Negative\n",
      "Predicted Positive                5                2\n",
      "Predicted Negative                0                1\n"
     ]
    }
   ],
   "source": [
    "knn.evaluate(X_test, y_test, intermediate_states=True)"
   ]
  },
  {
   "cell_type": "markdown",
   "id": "605b6e0d",
   "metadata": {},
   "source": [
    "### Conclusion\n",
    "The model works not bad but dataset is not big enough to provide accurate predictions consistently."
   ]
  },
  {
   "cell_type": "code",
   "execution_count": 30,
   "id": "535c7dd8",
   "metadata": {},
   "outputs": [],
   "source": [
    "del knn"
   ]
  },
  {
   "cell_type": "markdown",
   "id": "0e84a30b",
   "metadata": {},
   "source": [
    "## Decision Tree\n",
    "\n",
    "Data can be split in two subsets based on some criterion. Then these two can be split again and again as long as we need to do it. We'll have a tree structure then and the smallest sets (leafs) have a specified label. Given feature vector v we can match it to a leaf group by traversing this tree and leaf value of the matched set is most likely label for this vector"
   ]
  },
  {
   "cell_type": "code",
   "execution_count": 31,
   "id": "d6f284af",
   "metadata": {},
   "outputs": [],
   "source": [
    "from ML import DecisionTree\n",
    "dt = DecisionTree()\n",
    "dt.fit(X_train, y_train)"
   ]
  },
  {
   "cell_type": "markdown",
   "id": "dcf358ff",
   "metadata": {},
   "source": [
    "### Evaluation of the model"
   ]
  },
  {
   "cell_type": "code",
   "execution_count": 32,
   "id": "25c82309",
   "metadata": {},
   "outputs": [
    {
     "name": "stdout",
     "output_type": "stream",
     "text": [
      "Evaluation metrics:\n",
      " num  | Accuracy | Precision | Recall | F1_Score |\n",
      "  1   |   0.00   |   0.00    |  0.00  |   0.00   |\n",
      "  2   |   0.00   |   0.00    |  0.00  |   0.00   |\n",
      "  3   |   0.33   |   0.00    |  0.00  |   0.00   |\n",
      "  4   |   0.50   |   0.33    |  1.00  |   0.50   |\n",
      "  5   |   0.60   |   0.50    |  1.00  |   0.67   |\n",
      "  6   |   0.67   |   0.60    |  1.00  |   0.75   |\n",
      "  7   |   0.71   |   0.67    |  1.00  |   0.80   |\n",
      "  8   |   0.75   |   0.71    |  1.00  |   0.83   |\n",
      "\n",
      "Final:\n",
      "Accuracy=0.75 | Precision=0.71 | Recall=1.00 | F1 Score=0.83\n",
      "\n",
      "                    Actual Positive  Actual Negative\n",
      "Predicted Positive                5                2\n",
      "Predicted Negative                0                1\n"
     ]
    }
   ],
   "source": [
    "dt.evaluate(X_test, y_test, intermediate_states=True)"
   ]
  },
  {
   "cell_type": "markdown",
   "id": "3c09ebd1",
   "metadata": {},
   "source": [
    "### Conclusion\n",
    "\n",
    "As previously model doesn't give best results due to small size of the dataset."
   ]
  }
 ],
 "metadata": {
  "kernelspec": {
   "display_name": ".venv",
   "language": "python",
   "name": "python3"
  },
  "language_info": {
   "codemirror_mode": {
    "name": "ipython",
    "version": 3
   },
   "file_extension": ".py",
   "mimetype": "text/x-python",
   "name": "python",
   "nbconvert_exporter": "python",
   "pygments_lexer": "ipython3",
   "version": "3.13.5"
  }
 },
 "nbformat": 4,
 "nbformat_minor": 5
}
